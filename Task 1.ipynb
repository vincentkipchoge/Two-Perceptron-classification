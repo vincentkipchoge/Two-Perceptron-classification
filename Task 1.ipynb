{
 "cells": [
  {
   "cell_type": "markdown",
   "id": "cea3e678",
   "metadata": {},
   "source": [
    "## DATA PREPARATION"
   ]
  },
  {
   "cell_type": "code",
   "execution_count": 41,
   "id": "9a75eb30",
   "metadata": {},
   "outputs": [],
   "source": [
    "#Input data (16 samples)\n",
    "data = [\n",
    "    [0, 0,\n",
    "     0, 0],\n",
    "    [0, 0,\n",
    "     0, 1],\n",
    "    [0, 0,\n",
    "     1, 0],\n",
    "    [0, 0,\n",
    "     1, 1],\n",
    "    [0, 1, \n",
    "     0, 0],\n",
    "    [0, 1,\n",
    "     0, 1],\n",
    "    [0, 1,\n",
    "     1, 0],\n",
    "    [0, 1,\n",
    "     1, 1],\n",
    "    [1, 0,\n",
    "     0, 0],\n",
    "    [1, 0, \n",
    "     0, 1],\n",
    "    [1, 0, \n",
    "     1, 0],\n",
    "    [1, 0, \n",
    "     1, 1],\n",
    "    [1, 1, \n",
    "     0, 0],\n",
    "    [1, 1, \n",
    "     0, 1],\n",
    "    [1, 1,\n",
    "     1, 0],\n",
    "    [1, 1,\n",
    "     1, 1]\n",
    "]"
   ]
  },
  {
   "cell_type": "code",
   "execution_count": 42,
   "id": "3cd2e0f3",
   "metadata": {},
   "outputs": [],
   "source": [
    "#Labels (1 for \"bright\" and 0 for \"dark\")\n",
    "labels = [0, 0, 0, 1, 0, 1, 1, 1, 0, 1, 1, 1, 1, 1, 1, 1]"
   ]
  },
  {
   "cell_type": "code",
   "execution_count": 43,
   "id": "b727346c",
   "metadata": {},
   "outputs": [],
   "source": [
    "#Split data for training and testing (60% training, 40% testing)\n",
    "split_index = int(0.7 * len(data))\n",
    "train_data, test_data = data[:split_index], data[split_index:]\n",
    "train_labels, test_labels = labels[:split_index], labels[split_index:]"
   ]
  },
  {
   "cell_type": "markdown",
   "id": "216e2ec6",
   "metadata": {},
   "source": [
    "## ARCHITECTURE BUILDING"
   ]
  },
  {
   "cell_type": "code",
   "execution_count": 44,
   "id": "c3e96692",
   "metadata": {},
   "outputs": [],
   "source": [
    "import numpy as np\n",
    "\n",
    "# Define the perceptron class\n",
    "class Perceptron:\n",
    "    def __init__(self, input_size, learning_rate=1):\n",
    "        # Initialize weights and bias\n",
    "        self.weights = np.random.rand(input_size)\n",
    "        self.bias = np.random.rand()\n",
    "        self.learning_rate = learning_rate\n",
    "\n",
    "    def predict(self, inputs):\n",
    "        # Calculate the weighted sum of inputs and apply the step function\n",
    "        weighted_sum = np.dot(inputs, self.weights) + self.bias\n",
    "        return 1 if weighted_sum > 0 else 0\n",
    "\n",
    "    def train(self, inputs, target):\n",
    "        # Convert inputs to a NumPy array\n",
    "        inputs = np.array(inputs)\n",
    "        \n",
    "        # Update weights and bias based on the error\n",
    "        prediction = self.predict(inputs)\n",
    "        error = target - prediction\n",
    "        self.weights += self.learning_rate * error * inputs\n",
    "        self.bias += self.learning_rate * error\n",
    "    def save_model(self, filename=\"perceptron_model.pkl\"):\n",
    "        with open(filename, 'wb') as file:\n",
    "            pickle.dump(self, file)"
   ]
  },
  {
   "cell_type": "code",
   "execution_count": 45,
   "id": "3dfed9e5",
   "metadata": {},
   "outputs": [],
   "source": [
    "# Initialize perceptron\n",
    "perceptron = Perceptron(input_size=4)\n",
    "# Train perceptron\n",
    "for epoch in range(100):\n",
    "    for i in range(len(train_data)):\n",
    "        perceptron.train(train_data[i], train_labels[i])\n"
   ]
  },
  {
   "cell_type": "code",
   "execution_count": 46,
   "id": "524aacf9",
   "metadata": {},
   "outputs": [],
   "source": [
    "# Test perceptron\n",
    "correct_predictions = sum(perceptron.predict(test_data[i]) == test_labels[i] for i in range(len(test_data)))\n",
    "\n"
   ]
  },
  {
   "cell_type": "code",
   "execution_count": 47,
   "id": "4343c0dc",
   "metadata": {},
   "outputs": [],
   "source": [
    "# Print accuracy\n",
    "total_test_samples = len(test_data)\n",
    "accuracy = correct_predictions / total_test_samples\n",
    "\n",
    "print(f\"Accuracy: {accuracy * 100}%\")"
   ]
  },
  {
   "cell_type": "markdown",
   "id": "44520e3d",
   "metadata": {},
   "source": [
    "## VALIDATION"
   ]
  },
  {
   "cell_type": "code",
   "execution_count": 51,
   "id": "0d6ee9ab",
   "metadata": {},
   "outputs": [],
   "source": [
    "from sklearn.metrics import confusion_matrix, f1_score\n",
    "\n",
    "# Test perceptron and calculate testing accuracy\n",
    "correct_test_predictions = sum(perceptron.predict(test_data[i]) == test_labels[i] for i in range(len(test_data)))\n",
    "\n",
    "# Print testing accuracy\n",
    "total_test_samples = len(test_data)\n",
    "accuracy_test = correct_test_predictions / total_test_samples\n",
    "\n",
    "print(f\"Testing Accuracy: {accuracy_test * 100}%\")\n",
    "\n",
    "# Calculate F1 score\n",
    "f1 = f1_score(test_labels, [perceptron.predict(sample) for sample in test_data])\n",
    "print(f\"F1 Score: {f1}\")\n",
    "\n"
   ]
  },
  {
   "cell_type": "code",
   "execution_count": 49,
   "id": "3d4e0163",
   "metadata": {},
   "outputs": [],
   "source": [
    "# Save trained model\n",
    "import pickle\n",
    "perceptron.save_model()\n",
    "print(\"Trained model saved as 'perceptron_model.pkl'\")"
   ]
  },
  {
   "cell_type": "markdown",
   "id": "b42d67be",
   "metadata": {},
   "source": [
    "## GUI USING TKINTER"
   ]
  },
  {
   "cell_type": "code",
   "execution_count": 50,
   "id": "086449ff",
   "metadata": {},
   "outputs": [],
   "source": [
    "import tkinter as tk\n",
    "from tkinter import ttk\n",
    "import numpy as np\n",
    "import pickle\n",
    "\n",
    "class Perceptron:\n",
    "    def __init__(self, input_size, learning_rate=0.1):\n",
    "        self.weights = np.random.rand(input_size)\n",
    "        self.bias = np.random.rand()\n",
    "        self.learning_rate = learning_rate\n",
    "\n",
    "    def predict(self, inputs):\n",
    "        weighted_sum = np.dot(inputs, self.weights) + self.bias\n",
    "        return 1 if weighted_sum > 0 else 0\n",
    "\n",
    "    @classmethod\n",
    "    def load_model(cls, filename=\"perceptron_model.pkl\"):\n",
    "        with open(filename, 'rb') as file:\n",
    "            return pickle.load(file)\n",
    "\n",
    "class ModelTesterApp:\n",
    "    def __init__(self, master, perceptron):\n",
    "        self.master = master\n",
    "        self.master.title(\"Perceptron Model Tester\")\n",
    "\n",
    "        self.perceptron = perceptron\n",
    "\n",
    "        self.create_widgets()\n",
    "\n",
    "    def create_widgets(self):\n",
    "        self.label = tk.Label(self.master, text=\"Enter 2x2 Image (0 or 1):\")\n",
    "        self.label.grid(row=0, column=0, columnspan=2, pady=10)\n",
    "\n",
    "        self.entries = []\n",
    "        for i in range(2):\n",
    "            for j in range(2):\n",
    "                entry = ttk.Entry(self.master, width=5)\n",
    "                entry.grid(row=i + 1, column=j, padx=5, pady=5)\n",
    "                self.entries.append(entry)\n",
    "\n",
    "        self.predict_button = ttk.Button(self.master, text=\"Predict\", command=self.predict_image)\n",
    "        self.predict_button.grid(row=3, column=0, columnspan=2, pady=10)\n",
    "\n",
    "        self.result_label = tk.Label(self.master, text=\"\")\n",
    "        self.result_label.grid(row=4, column=0, columnspan=2)\n",
    "\n",
    "    def predict_image(self):\n",
    "        input_image = [int(entry.get()) for entry in self.entries]\n",
    "        prediction = self.perceptron.predict(input_image)\n",
    "        result_text = \"Prediction: 'Bright'\" if prediction == 1 else \"Prediction: 'Dark'\"\n",
    "        self.result_label.config(text=result_text)\n",
    "\n",
    "def load_and_run_gui():\n",
    "    # Load trained model\n",
    "    perceptron = Perceptron.load_model()\n",
    "\n",
    "    # Create GUI\n",
    "    root = tk.Tk()\n",
    "    app = ModelTesterApp(root, perceptron)\n",
    "    root.mainloop()\n",
    "\n",
    "if __name__ == \"__main__\":\n",
    "    load_and_run_gui()\n"
   ]
  },
  {
   "cell_type": "code",
   "execution_count": null,
   "id": "519b0667",
   "metadata": {},
   "outputs": [],
   "source": []
  }
 ],
 "metadata": {
  "kernelspec": {
   "display_name": "Python 3 (ipykernel)",
   "language": "python",
   "name": "python3"
  },
  "language_info": {
   "codemirror_mode": {
    "name": "ipython",
    "version": 3
   },
   "file_extension": ".py",
   "mimetype": "text/x-python",
   "name": "python",
   "nbconvert_exporter": "python",
   "pygments_lexer": "ipython3",
   "version": "3.11.5"
  }
 },
 "nbformat": 4,
 "nbformat_minor": 5
}
